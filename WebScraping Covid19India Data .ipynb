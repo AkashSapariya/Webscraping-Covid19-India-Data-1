{
 "cells": [
  {
   "cell_type": "code",
   "execution_count": 1,
   "id": "1f9ffd99",
   "metadata": {},
   "outputs": [],
   "source": [
    "# !pip install selenium\n",
    "import pandas as pd\n",
    "import numpy as np\n",
    "from selenium import *\n",
    "from selenium import webdriver\n",
    "from selenium.common.exceptions import TimeoutException\n",
    "from selenium.webdriver.chrome.options import Options as ChromeOptions\n",
    "from selenium.webdriver.firefox.options import Options as FirefoxOptions\n",
    "from selenium.webdriver.common.by import By\n",
    "from selenium.webdriver.support import expected_conditions as EC\n",
    "from selenium.webdriver.support.ui import WebDriverWait"
   ]
  },
  {
   "cell_type": "code",
   "execution_count": 2,
   "id": "6248c52d",
   "metadata": {},
   "outputs": [
    {
     "name": "stdout",
     "output_type": "stream",
     "text": [
      "Mozilla/5.0 (Windows NT 6.1; WOW64; rv:29.0) Gecko/20120101 Firefox/29.0\n"
     ]
    }
   ],
   "source": [
    "options = FirefoxOptions()\n",
    "options.add_argument(\"window-size=1400,600\")\n",
    "from fake_useragent import UserAgent\n",
    "\n",
    "ua = UserAgent()\n",
    "user_agent = ua.random\n",
    "print(user_agent)\n",
    "options.add_argument(f'user-agent={user_agent}')\n",
    "options.add_argument('--disable-blink-features=AutomationControlled')\n",
    "options.add_argument(\"--headless\")"
   ]
  },
  {
   "cell_type": "code",
   "execution_count": 4,
   "id": "296fd7b0",
   "metadata": {},
   "outputs": [
    {
     "name": "stderr",
     "output_type": "stream",
     "text": [
      "C:\\Users\\parth\\AppData\\Local\\Temp\\ipykernel_4488\\1756664315.py:1: DeprecationWarning: executable_path has been deprecated, please pass in a Service object\n",
      "  driver = webdriver.Firefox(executable_path='C:/Users/parth/Desktop/selenium/firefox/geckodriver.exe',options=options)\n"
     ]
    },
    {
     "name": "stdout",
     "output_type": "stream",
     "text": [
      "Confirmed Today:  + 12,907\n",
      "Confirmed:  3,42,85,612\n",
      "Active:   1,52,606\n",
      "Recovered Today:  + 13,152\n",
      "Recovered:  3,36,61,339\n",
      "Decreased Today:  + 251\n",
      "Decreased:  4,58,470\n",
      "Total Tested:  60,92,01,294\n",
      "Total Vaccine Doses:  1,06,31,24,205\n",
      "At least one dose:  53.1%\n",
      "Fully vaccinated:  23.8%\n"
     ]
    }
   ],
   "source": [
    "driver = webdriver.Firefox(executable_path='C:/Users/parth/Desktop/selenium/firefox/geckodriver.exe',options=options)\n",
    "# driver = webdriver.Chrome(executable_path='C:/Users/parth/Desktop/selenium/ch/chromedriver.exe')\n",
    "driver.get(\"https://www.covid19india.org/\")\n",
    "timeout = 10\n",
    "try:\n",
    "    WebDriverWait(driver, timeout).until(EC.visibility_of_element_located((By.CLASS_NAME, \"level-vaccinated\")))\n",
    "except TimeoutException:\n",
    "    driver.quit()\n",
    "    \n",
    "cases_current_stats = driver.find_element(By.CLASS_NAME, \"Level\").text;\n",
    "# print(cases_current_stats)\n",
    "# print(type(cases_current_stats))\n",
    "\n",
    "cs_list = cases_current_stats.split('\\n')\n",
    "# print(cs_list)\n",
    "print('Confirmed Today: ', cs_list[1])\n",
    "print('Confirmed: ', cs_list[2])\n",
    "print('Active: ', cs_list[4])\n",
    "print('Recovered Today: ', cs_list[6])\n",
    "print('Recovered: ',cs_list[7])\n",
    "print('Decreased Today: ', cs_list[9])\n",
    "print('Decreased: ', cs_list[10])\n",
    "\n",
    "tested_current_stats = driver.find_element(By.CLASS_NAME, \"header-right\")\n",
    "print(\"Total Tested: \",tested_current_stats.text.split('\\n')[1])\n",
    "\n",
    "# Vaccination Current Stats\n",
    "\n",
    "vaccination_current_stats = driver.find_element(By.CLASS_NAME, \"level-vaccinated\")\n",
    "\n",
    "vcs = vaccination_current_stats.text.split('\\n')[0]\n",
    "\n",
    "vaccination_alo_prog_bar = driver.find_element(By.CLASS_NAME, \"progress-bar\")\n",
    "vaccination_fv_prog_bar = driver.find_elements(By.CLASS_NAME, \"label\")\n",
    "\n",
    "fvl = vaccination_fv_prog_bar[1].text\n",
    "fvl = fvl.split('(')\n",
    "fvl = fvl[1].split(')')\n",
    "\n",
    "print(\"Total Vaccine Doses: \", vcs)\n",
    "print(\"At least one dose: \", vaccination_alo_prog_bar.text)\n",
    "print(\"Fully vaccinated: \", fvl[0])\n"
   ]
  },
  {
   "cell_type": "code",
   "execution_count": null,
   "id": "f6533176",
   "metadata": {},
   "outputs": [],
   "source": []
  }
 ],
 "metadata": {
  "kernelspec": {
   "display_name": "Python 3 (ipykernel)",
   "language": "python",
   "name": "python3"
  },
  "language_info": {
   "codemirror_mode": {
    "name": "ipython",
    "version": 3
   },
   "file_extension": ".py",
   "mimetype": "text/x-python",
   "name": "python",
   "nbconvert_exporter": "python",
   "pygments_lexer": "ipython3",
   "version": "3.9.12"
  }
 },
 "nbformat": 4,
 "nbformat_minor": 5
}
